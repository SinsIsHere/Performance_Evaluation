{
 "cells": [
  {
   "cell_type": "markdown",
   "id": "194d7678",
   "metadata": {},
   "source": [
    "### Import modules"
   ]
  },
  {
   "cell_type": "code",
   "execution_count": 1,
   "id": "dbe03563",
   "metadata": {},
   "outputs": [],
   "source": [
    "import simpy\n",
    "import numpy as np\n",
    "import numpy.random as random"
   ]
  },
  {
   "cell_type": "markdown",
   "id": "e161882b",
   "metadata": {},
   "source": [
    "### Parameters"
   ]
  },
  {
   "cell_type": "code",
   "execution_count": 2,
   "id": "c0bb07dd",
   "metadata": {},
   "outputs": [],
   "source": [
    "LAMBDA = 5\n",
    "MU = 8\n",
    "c = 3\n",
    "MAXSIMTIME = 50000\n",
    "POPULATION = 50000000\n",
    "SERVICE_DISCIPLINE = 'FCFS'\n",
    "LOGGED = True\n",
    "VERBOSE = False"
   ]
  },
  {
   "cell_type": "markdown",
   "id": "bfbdd450",
   "metadata": {},
   "source": [
    "### Job"
   ]
  },
  {
   "cell_type": "code",
   "execution_count": 3,
   "id": "c0cec8ba",
   "metadata": {},
   "outputs": [],
   "source": [
    "class Job:\n",
    "    def __init__(self, name, arrtime, duration):\n",
    "        self.name = name\n",
    "        self.arrtime = arrtime\n",
    "        self.duration = duration\n",
    "        \n",
    "    def __str__(self):\n",
    "        return '%s at %d, length %d' % (self.name, self.arrtime, self.duration)"
   ]
  },
  {
   "cell_type": "markdown",
   "id": "45fc310c",
   "metadata": {},
   "source": [
    "### Server"
   ]
  },
  {
   "cell_type": "code",
   "execution_count": 6,
   "id": "a37bee52",
   "metadata": {},
   "outputs": [],
   "source": [
    "class Server:\n",
    "    def __init__(self, env, strat, job, servernum):\n",
    "        self.env = env\n",
    "        self.strat = strat\n",
    "        self.servernum = servernum\n",
    "        self.job = job\n",
    "        self.serversleeping = None\n",
    "        ''' statistics '''\n",
    "        self.waitingTime = 0\n",
    "        self.idleTime = 0\n",
    "        self.jobsDone = 0\n",
    "        ''' register a new server process '''\n",
    "        env.process( self.serve() )\n",
    "        \n",
    "    def serve(self):\n",
    "        ''' do nothing, just change server to idle\n",
    "            and then yield a wait event which takes infinite time\n",
    "        '''\n",
    "        While True:\n",
    "            if self.job == None:\n",
    "                self.serversleeping = env.process( self.waiting( self.env ))\n",
    "                t1 = self.env.now\n",
    "                yield self.serversleeping\n",
    "                ''' accumulate the server idle time'''\n",
    "                self.idleTime += self.env.now - t1\n",
    "\n",
    "            else:\n",
    "                if LOGGED:\n",
    "                    qlog[i].write('%.4f\\t%d\\n' % (self.env.now, 1 if self.job != None else 0))\n",
    "\n",
    "                ''' sum up the waiting time'''\n",
    "                self.waitingTime += self.env.now - j.arrtime\n",
    "                ''' yield an event for the job finish'''\n",
    "                yield self.env.timeout( j.duration )\n",
    "                ''' sum up the jobs done '''\n",
    "                self.jobsDone += 1\n",
    "                self.job = None\n",
    "                \n",
    "    def waiting(self, env):\n",
    "        try:\n",
    "            if VERBOSE:\n",
    "                print( 'Server is idle at %.2f' % self.env.now )\n",
    "            yield self.env.timeout( MAXSIMTIME )\n",
    "        except simpy.Interrupt as i:\n",
    "            if VERBOSE:\n",
    "                 print('Server waken up and works at %.2f' % self.env.now )"
   ]
  },
  {
   "cell_type": "markdown",
   "id": "55db7933",
   "metadata": {},
   "source": [
    "### System"
   ]
  },
  {
   "cell_type": "code",
   "execution_count": 2,
   "id": "3092a863",
   "metadata": {},
   "outputs": [],
   "source": [
    "class System:\n",
    "    def __init__(self, env, servernum, strat):\n",
    "        self.env = env\n",
    "        self.strat = strat\n",
    "        self.servernum = servernum\n",
    "        self.Jobs = list(())\n",
    "        self.Servers = []\n",
    "        env.process(self.start())\n",
    "        for i in range(0, servernum):\n",
    "            self.Servers[i] = self.Server(env, self.strat, None, i)\n",
    "        \n",
    "    class Server:\n",
    "        def __init__(self, env, strat, job, servernum):\n",
    "            self.env = env\n",
    "            self.strat = strat\n",
    "            self.servernum = servernum\n",
    "            self.job = job\n",
    "            self.serversleeping = None\n",
    "            ''' statistics '''\n",
    "            self.waitingTime = 0\n",
    "            self.idleTime = 0\n",
    "            self.jobsDone = 0\n",
    "            ''' register a new server process '''\n",
    "            env.process( self.serve() )\n",
    "\n",
    "        def serve(self):\n",
    "            ''' do nothing, just change server to idle\n",
    "                and then yield a wait event which takes infinite time\n",
    "            '''\n",
    "            while True:\n",
    "                if self.job == None:\n",
    "                    self.serversleeping = env.process( self.waiting( self.env ))\n",
    "                    t1 = self.env.now\n",
    "                    yield self.serversleeping\n",
    "                    ''' accumulate the server idle time'''\n",
    "                    self.idleTime += self.env.now - t1\n",
    "\n",
    "                else:\n",
    "                    if LOGGED:\n",
    "                        qlog[i].write('%.4f\\t%d\\n' % (self.env.now, 1 if self.job != None else 0))\n",
    "\n",
    "                    ''' sum up the waiting time'''\n",
    "                    self.waitingTime += self.env.now - j.arrtime\n",
    "                    ''' yield an event for the job finish'''\n",
    "                    yield self.env.timeout( j.duration )\n",
    "                    ''' sum up the jobs done '''\n",
    "                    self.jobsDone += 1\n",
    "                    self.job = None\n",
    "\n",
    "        def waiting(self, env):\n",
    "            try:\n",
    "                if VERBOSE:\n",
    "                    print( 'Server is idle at %.2f' % self.env.now )\n",
    "                yield self.env.timeout( MAXSIMTIME )\n",
    "            except simpy.Interrupt as i:\n",
    "                if VERBOSE:\n",
    "                     print('Server waken up and works at %.2f' % self.env.now )\n",
    "        \n",
    "    def start(self):\n",
    "        while True:\n",
    "            if len(self.Jobs) != 0:\n",
    "                for i in range(0, servernum):\n",
    "                    if self.Server[i].job == None:\n",
    "                        self.Servers[i].job = self.Jobs.pop(0)\n",
    "                slog.write('%.4f\\t%d\\n' % (self.env.now, len(self.Jobs)))"
   ]
  },
  {
   "cell_type": "markdown",
   "id": "89668014",
   "metadata": {},
   "source": [
    "### Job generator"
   ]
  },
  {
   "cell_type": "code",
   "execution_count": 3,
   "id": "5cfce449",
   "metadata": {},
   "outputs": [],
   "source": [
    "class JobGenerator:\n",
    "    def __init__(self, env, system, nrjobs, lam, mu):\n",
    "        self.system = system\n",
    "        self.nrjobs = nrjobs\n",
    "        self.interarrivaltime = 1/lam;\n",
    "        self.servicetime = 1/mu;\n",
    "        env.process( self.generatejobs(env) )\n",
    "        \n",
    "    def generatejobs(self, env):\n",
    "        i = 1\n",
    "        while True:\n",
    "            '''yield an event for new job arrival'''\n",
    "            job_interarrival = random.exponential( self.interarrivaltime )\n",
    "            yield env.timeout( job_interarrival )\n",
    "\n",
    "            ''' generate service time and add job to the list'''\n",
    "            job_duration = random.exponential( self.servicetime )\n",
    "            self.system.Jobs.append( Job('Job %s' %i, env.now, job_duration) )\n",
    "            if VERBOSE:\n",
    "                print( 'job %d: t = %.2f, l = %.2f, dt = %.2f' \n",
    "                    %( i, env.now, job_duration, job_interarrival ) )\n",
    "            i += 1\n",
    "\n",
    "            ''' if server is idle, wake it up'''\n",
    "            if not self.server.serversleeping.triggered:\n",
    "                self.server.serversleeping.interrupt( 'Wake up, please.' )"
   ]
  },
  {
   "cell_type": "markdown",
   "id": "9fafa701",
   "metadata": {},
   "source": [
    "### Log file"
   ]
  },
  {
   "cell_type": "code",
   "execution_count": 4,
   "id": "6c9a2850",
   "metadata": {},
   "outputs": [
    {
     "ename": "SyntaxError",
     "evalue": "expected ':' (919951107.py, line 3)",
     "output_type": "error",
     "traceback": [
      "\u001b[1;36m  Cell \u001b[1;32mIn [4], line 3\u001b[1;36m\u001b[0m\n\u001b[1;33m    for i in range(0, c)\u001b[0m\n\u001b[1;37m                        ^\u001b[0m\n\u001b[1;31mSyntaxError\u001b[0m\u001b[1;31m:\u001b[0m expected ':'\n"
     ]
    }
   ],
   "source": [
    "if LOGGED:\n",
    "    slog = open( 'mmc-l%d-m%d-c%d.csv' % (LAMBDA,MU,C), 'w')\n",
    "    for i in range(0, c):\n",
    "        qlog[i] = open( 'mmc-l%d-m%d-%d/%d-example.csv' % (LAMBDA,MU,i+1,c), 'w' )\n",
    "        qlog[i].write( '0\\t0\\n' )"
   ]
  },
  {
   "cell_type": "code",
   "execution_count": null,
   "id": "a565bf50",
   "metadata": {},
   "outputs": [],
   "source": []
  }
 ],
 "metadata": {
  "kernelspec": {
   "display_name": "Python 3 (ipykernel)",
   "language": "python",
   "name": "python3"
  },
  "language_info": {
   "codemirror_mode": {
    "name": "ipython",
    "version": 3
   },
   "file_extension": ".py",
   "mimetype": "text/x-python",
   "name": "python",
   "nbconvert_exporter": "python",
   "pygments_lexer": "ipython3",
   "version": "3.10.7"
  }
 },
 "nbformat": 4,
 "nbformat_minor": 5
}
