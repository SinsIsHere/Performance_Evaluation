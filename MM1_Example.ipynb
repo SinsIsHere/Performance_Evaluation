{
 "cells": [
  {
   "cell_type": "markdown",
   "metadata": {
    "id": "sidl8rN-gpnX"
   },
   "source": [
    "**Installation of SimPy\"\"\n",
    "If not available**"
   ]
  },
  {
   "cell_type": "code",
   "execution_count": 1,
   "metadata": {
    "colab": {
     "base_uri": "https://localhost:8080/",
     "height": 105
    },
    "id": "pKwPk03SfmJK",
    "outputId": "36ba5ba1-32bd-4328-851b-86bad702a048"
   },
   "outputs": [
    {
     "name": "stdout",
     "output_type": "stream",
     "text": [
      "Requirement already satisfied: simpy in c:\\users\\bin\\appdata\\local\\programs\\python\\python310\\lib\\site-packages (4.0.1)\n"
     ]
    },
    {
     "name": "stderr",
     "output_type": "stream",
     "text": [
      "\n",
      "[notice] A new release of pip available: 22.2.2 -> 22.3.1\n",
      "[notice] To update, run: python.exe -m pip install --upgrade pip\n"
     ]
    },
    {
     "name": "stdout",
     "output_type": "stream",
     "text": [
      "Requirement already satisfied: numpy in c:\\users\\bin\\appdata\\local\\programs\\python\\python310\\lib\\site-packages (1.23.5)\n"
     ]
    },
    {
     "name": "stderr",
     "output_type": "stream",
     "text": [
      "\n",
      "[notice] A new release of pip available: 22.2.2 -> 22.3.1\n",
      "[notice] To update, run: python.exe -m pip install --upgrade pip\n"
     ]
    },
    {
     "name": "stdout",
     "output_type": "stream",
     "text": [
      "Requirement already satisfied: matplotlib in c:\\users\\bin\\appdata\\local\\programs\\python\\python310\\lib\\site-packages (3.6.2)\n",
      "Requirement already satisfied: fonttools>=4.22.0 in c:\\users\\bin\\appdata\\local\\programs\\python\\python310\\lib\\site-packages (from matplotlib) (4.38.0)\n",
      "Requirement already satisfied: packaging>=20.0 in c:\\users\\bin\\appdata\\local\\programs\\python\\python310\\lib\\site-packages (from matplotlib) (21.3)\n",
      "Requirement already satisfied: kiwisolver>=1.0.1 in c:\\users\\bin\\appdata\\local\\programs\\python\\python310\\lib\\site-packages (from matplotlib) (1.4.4)\n",
      "Requirement already satisfied: contourpy>=1.0.1 in c:\\users\\bin\\appdata\\local\\programs\\python\\python310\\lib\\site-packages (from matplotlib) (1.0.6)\n",
      "Requirement already satisfied: cycler>=0.10 in c:\\users\\bin\\appdata\\local\\programs\\python\\python310\\lib\\site-packages (from matplotlib) (0.11.0)\n",
      "Requirement already satisfied: pyparsing>=2.2.1 in c:\\users\\bin\\appdata\\local\\programs\\python\\python310\\lib\\site-packages (from matplotlib) (3.0.9)\n",
      "Requirement already satisfied: numpy>=1.19 in c:\\users\\bin\\appdata\\local\\programs\\python\\python310\\lib\\site-packages (from matplotlib) (1.23.5)\n",
      "Requirement already satisfied: pillow>=6.2.0 in c:\\users\\bin\\appdata\\local\\programs\\python\\python310\\lib\\site-packages (from matplotlib) (9.3.0)\n",
      "Requirement already satisfied: python-dateutil>=2.7 in c:\\users\\bin\\appdata\\local\\programs\\python\\python310\\lib\\site-packages (from matplotlib) (2.8.2)\n",
      "Requirement already satisfied: six>=1.5 in c:\\users\\bin\\appdata\\local\\programs\\python\\python310\\lib\\site-packages (from python-dateutil>=2.7->matplotlib) (1.16.0)\n"
     ]
    },
    {
     "name": "stderr",
     "output_type": "stream",
     "text": [
      "\n",
      "[notice] A new release of pip available: 22.2.2 -> 22.3.1\n",
      "[notice] To update, run: python.exe -m pip install --upgrade pip\n"
     ]
    }
   ],
   "source": [
    "!pip install simpy\n",
    "!pip install numpy\n",
    "!pip install matplotlib"
   ]
  },
  {
   "cell_type": "markdown",
   "metadata": {
    "id": "sK1Rcq_Nn7JU"
   },
   "source": [
    "**Import of required modules**"
   ]
  },
  {
   "cell_type": "code",
   "execution_count": 2,
   "metadata": {
    "id": "ZOd3WZaxoF6X"
   },
   "outputs": [],
   "source": [
    "import simpy\n",
    "import numpy as np\n",
    "import numpy.random as random"
   ]
  },
  {
   "cell_type": "markdown",
   "metadata": {
    "id": "RYQoyxyanvOF"
   },
   "source": [
    "**Parameters settings**"
   ]
  },
  {
   "cell_type": "code",
   "execution_count": 3,
   "metadata": {
    "id": "asVZg4Rhnszz"
   },
   "outputs": [],
   "source": [
    "MAXSIMTIME = 50000\n",
    "VERBOSE = False\n",
    "LAMBDA = 3.8\n",
    "MU = 8.0\n",
    "POPULATION = 50000000\n",
    "SERVICE_DISCIPLINE = 'SJF'\n",
    "LOGGED = True\n",
    "PLOTTED = True"
   ]
  },
  {
   "cell_type": "markdown",
   "metadata": {
    "id": "7DTHSA8KoOee"
   },
   "source": [
    "**Discrete-Event Simulation model**\n"
   ]
  },
  {
   "cell_type": "markdown",
   "metadata": {
    "id": "febxQ9ZloffF"
   },
   "source": [
    "**The definition of a job**.\n",
    "\n",
    "The properties of a job are\n",
    "\n",
    "\n",
    "1. job execution time\n",
    "2. job arrival time"
   ]
  },
  {
   "cell_type": "code",
   "execution_count": 4,
   "metadata": {
    "id": "TEvUrP_ToXfJ"
   },
   "outputs": [],
   "source": [
    "class Job:\n",
    "    def __init__(self, name, arrtime, duration):\n",
    "        self.name = name\n",
    "        self.arrtime = arrtime\n",
    "        self.duration = duration\n",
    "\n",
    "    def __str__(self):\n",
    "        return '%s at %d, length %d' %(self.name, self.arrtime, self.duration)"
   ]
  },
  {
   "cell_type": "markdown",
   "metadata": {
    "id": "kY81H1JZot8D"
   },
   "source": [
    "**Disciplines**\n",
    "Different queue disciplines can be defined here.\n",
    "\n",
    "\n",
    "1.   Shortest Job First (SJF)\n",
    "2.   List item\n",
    "\n"
   ]
  },
  {
   "cell_type": "code",
   "execution_count": 5,
   "metadata": {
    "id": "48b26HGLo-u-"
   },
   "outputs": [],
   "source": [
    "def SJF( job ):\n",
    "    return job.duration"
   ]
  },
  {
   "cell_type": "markdown",
   "metadata": {
    "id": "8xrYAaF1pNQw"
   },
   "source": [
    "**The definition of server**\n",
    "\n",
    " There are 2 arguments needed for a server:\n",
    " 1. env: SimPy environment\n",
    " 2. queue discipline: \n",
    "   - FIFO: First In First Out\n",
    "   - SJF : Shortest Job First"
   ]
  },
  {
   "cell_type": "code",
   "execution_count": 6,
   "metadata": {
    "id": "-6HYojvLpyZY"
   },
   "outputs": [],
   "source": [
    "class Server:\n",
    "    def __init__(self, env, strat = 'FIFO'):\n",
    "        self.env = env\n",
    "        self.strat = strat\n",
    "        self.Jobs = list(())\n",
    "        self.serversleeping = None\n",
    "        ''' statistics '''\n",
    "        self.waitingTime = 0\n",
    "        self.idleTime = 0\n",
    "        self.jobsDone = 0\n",
    "        ''' register a new server process '''\n",
    "        env.process( self.serve() )\n",
    "\n",
    "    def serve(self):\n",
    "        while True:\n",
    "            ''' do nothing, just change server to idle\n",
    "              and then yield a wait event which takes infinite time\n",
    "            '''\n",
    "            if len( self.Jobs ) == 0 :\n",
    "                self.serversleeping = env.process( self.waiting( self.env ))\n",
    "                t1 = self.env.now\n",
    "                yield self.serversleeping\n",
    "                ''' accumulate the server idle time'''\n",
    "                self.idleTime += self.env.now - t1\n",
    "            else:\n",
    "                ''' get the first job to be served'''\n",
    "                if self.strat == 'SJF':\n",
    "                    self.Jobs.sort( key = SJF )\n",
    "                    j = self.Jobs.pop( 0 )\n",
    "                else: # FIFO by default\n",
    "                    j = self.Jobs.pop( 0 )\n",
    "                if LOGGED:\n",
    "                    qlog.write( '%.4f\\t%d\\t%d\\n' \n",
    "                        % (self.env.now, 1 if len(self.Jobs)>0 else 0, len(self.Jobs)) )\n",
    "\n",
    "                ''' sum up the waiting time'''\n",
    "                self.waitingTime += self.env.now - j.arrtime\n",
    "                ''' yield an event for the job finish'''\n",
    "                yield self.env.timeout( j.duration )\n",
    "                ''' sum up the jobs done '''\n",
    "                self.jobsDone += 1\n",
    "\n",
    "    def waiting(self, env):\n",
    "        try:\n",
    "            if VERBOSE:\n",
    "                print( 'Server is idle at %.2f' % self.env.now )\n",
    "            yield self.env.timeout( MAXSIMTIME )\n",
    "        except simpy.Interrupt as i:\n",
    "            if VERBOSE:\n",
    "                 print('Server waken up and works at %.2f' % self.env.now )"
   ]
  },
  {
   "cell_type": "markdown",
   "metadata": {
    "id": "O-nvQ8o_qHfn"
   },
   "source": [
    "**The arrival process**\n",
    "\n",
    "The arrival process is exponentially distributed which is parameterized by\n",
    "1. number of servers\n",
    "2. maximum number of population\n",
    "3. arrival rate $\\lambda$\n",
    "4. service rate $\\mu$\n",
    "*Note that, the implementation of the arrival process embeds both arrival and service distributions.*"
   ]
  },
  {
   "cell_type": "code",
   "execution_count": 7,
   "metadata": {
    "id": "R7nU8BkzqKr5"
   },
   "outputs": [],
   "source": [
    "class JobGenerator:\n",
    "    def __init__(self, env, server, nrjobs = 10000000, lam = 3.8 , mu = 8):\n",
    "        self.server = server\n",
    "        self.nrjobs = nrjobs\n",
    "        self.interarrivaltime = 1/lam;\n",
    "        self.servicetime = 1/mu;\n",
    "        env.process( self.generatejobs(env) )\n",
    "        \n",
    "    def generatejobs(self, env):\n",
    "        i = 1\n",
    "        while True:\n",
    "            '''yield an event for new job arrival'''\n",
    "            job_interarrival = random.exponential( self.interarrivaltime )\n",
    "            yield env.timeout( job_interarrival )\n",
    "\n",
    "            ''' generate service time and add job to the list'''\n",
    "            job_duration = random.exponential( self.servicetime )\n",
    "            self.server.Jobs.append( Job('Job %s' %i, env.now, job_duration) )\n",
    "            if VERBOSE:\n",
    "                print( 'job %d: t = %.2f, l = %.2f, dt = %.2f' \n",
    "                    %( i, env.now, job_duration, job_interarrival ) )\n",
    "            i += 1\n",
    "\n",
    "            ''' if server is idle, wake it up'''\n",
    "            if not self.server.serversleeping.triggered:\n",
    "                self.server.serversleeping.interrupt( 'Wake up, please.' )\n"
   ]
  },
  {
   "cell_type": "markdown",
   "metadata": {
    "id": "NxbCXAF1rMZ4"
   },
   "source": [
    "**Open the log file**\n",
    "\n",
    "If requested."
   ]
  },
  {
   "cell_type": "code",
   "execution_count": 8,
   "metadata": {
    "id": "aSjPUvGfrSJc"
   },
   "outputs": [],
   "source": [
    "if LOGGED:\n",
    "    qlog = open( 'mm1-l%d-m%d-example.csv' % (LAMBDA,MU), 'w' )\n",
    "    qlog.write( '0\\t0\\t0\\n' )"
   ]
  },
  {
   "cell_type": "markdown",
   "metadata": {
    "id": "k8WFQcQtrWws"
   },
   "source": [
    "**Start SimPy environment**"
   ]
  },
  {
   "cell_type": "code",
   "execution_count": 9,
   "metadata": {
    "id": "BO60ZKxjracy"
   },
   "outputs": [],
   "source": [
    "env = simpy.Environment()\n",
    "MyServer = Server( env, SERVICE_DISCIPLINE )\n",
    "MyJobGenerator = JobGenerator( env, MyServer, POPULATION, LAMBDA, MU )"
   ]
  },
  {
   "cell_type": "markdown",
   "metadata": {
    "id": "SlH3zUajre1W"
   },
   "source": [
    "**Run the simulation** "
   ]
  },
  {
   "cell_type": "code",
   "execution_count": 10,
   "metadata": {
    "id": "ZEBVpZLLriBS"
   },
   "outputs": [],
   "source": [
    "env.run( until = MAXSIMTIME )"
   ]
  },
  {
   "cell_type": "markdown",
   "metadata": {
    "id": "0Vl6BUoxrqBm"
   },
   "source": [
    "**Close the log file**"
   ]
  },
  {
   "cell_type": "code",
   "execution_count": 11,
   "metadata": {
    "id": "Y9FtIQ8lrt-7"
   },
   "outputs": [],
   "source": [
    "if LOGGED:\n",
    "    qlog.close()"
   ]
  },
  {
   "cell_type": "markdown",
   "metadata": {
    "id": "6FhfyIj4rxFs"
   },
   "source": [
    "**Print some statistics**"
   ]
  },
  {
   "cell_type": "code",
   "execution_count": 12,
   "metadata": {
    "colab": {
     "base_uri": "https://localhost:8080/",
     "height": 68
    },
    "id": "Dn4otA3srzw8",
    "outputId": "d7b30780-c809-49fd-90d2-4d387b4c8bca"
   },
   "outputs": [
    {
     "name": "stdout",
     "output_type": "stream",
     "text": [
      "Arrivals               : 190196\n",
      "Utilization            : 0.48/0.47\n",
      "Mean waiting time      : 0.08/0.11\n"
     ]
    }
   ],
   "source": [
    "RHO = LAMBDA/MU\n",
    "print( 'Arrivals               : %d' % (MyServer.jobsDone) )\n",
    "print( 'Utilization            : %.2f/%.2f' \n",
    "    % (1.0-MyServer.idleTime/MAXSIMTIME, RHO) )\n",
    "print( 'Mean waiting time      : %.2f/%.2f' \n",
    "    % (MyServer.waitingTime/MyServer.jobsDone, RHO**2/((1-RHO)*LAMBDA) ) )"
   ]
  },
  {
   "cell_type": "markdown",
   "metadata": {
    "id": "KsYgIPPNr2u5"
   },
   "source": [
    "**Plot the statistics**"
   ]
  },
  {
   "cell_type": "code",
   "execution_count": 13,
   "metadata": {
    "colab": {
     "base_uri": "https://localhost:8080/",
     "height": 297
    },
    "id": "Bq3SlNxEr4li",
    "outputId": "8d04e372-2591-4b87-d8dd-c4652fecea6e"
   },
   "outputs": [
    {
     "data": {
      "image/png": "[encoded data removed]",
      "text/plain": [
       "<Figure size 640x480 with 2 Axes>"
      ]
     },
     "metadata": {},
     "output_type": "display_data"
    }
   ],
   "source": [
    "if LOGGED and PLOTTED:\n",
    "    import matplotlib.pyplot as plt\n",
    "    log = np.loadtxt( 'mm1-l%d-m%d-example.csv' % (LAMBDA,MU), delimiter = '\\t' )\n",
    "    plt.subplot( 2, 1, 1 )\n",
    "    plt.xlabel( 'Time' )\n",
    "    plt.ylabel( 'Queue length' )\n",
    "    plt.step( log[:200,0], log[:200,2], where='post' )\n",
    "    plt.subplot( 2, 1, 2 )\n",
    "    plt.xlabel( 'Time' )\n",
    "    plt.ylabel( 'Server state' )\n",
    "    plt.yticks([0, 1], ['idle', 'busy'])\n",
    "    #plt.step( log[:200,0], log[:200,1], where='post' )\n",
    "    plt.fill_between( log[:200,0], 0, log[:200,1], step=\"post\", alpha=.4 )\n",
    "    plt.tight_layout()\n",
    "    plt.show()"
   ]
  }
 ],
 "metadata": {
  "colab": {
   "collapsed_sections": [],
   "name": "MM1.ipynb",
   "provenance": []
  },
  "kernelspec": {
   "display_name": "Python 3 (ipykernel)",
   "language": "python",
   "name": "python3"
  },
  "language_info": {
   "codemirror_mode": {
    "name": "ipython",
    "version": 3
   },
   "file_extension": ".py",
   "mimetype": "text/x-python",
   "name": "python",
   "nbconvert_exporter": "python",
   "pygments_lexer": "ipython3",
   "version": "3.10.7"
  }
 },
 "nbformat": 4,
 "nbformat_minor": 4
}
