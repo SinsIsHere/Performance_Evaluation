{
 "cells": [
  {
   "cell_type": "markdown",
   "id": "194d7678",
   "metadata": {},
   "source": [
    "### Import modules"
   ]
  },
  {
   "cell_type": "code",
   "execution_count": 1,
   "id": "dbe03563",
   "metadata": {},
   "outputs": [],
   "source": [
    "import simpy\n",
    "import numpy as np\n",
    "import numpy.random as random"
   ]
  },
  {
   "cell_type": "markdown",
   "id": "e161882b",
   "metadata": {},
   "source": [
    "### Parameters"
   ]
  },
  {
   "cell_type": "code",
   "execution_count": 2,
   "id": "c0bb07dd",
   "metadata": {},
   "outputs": [],
   "source": [
    "LAMBDA = 5.0\n",
    "MU = 8.0\n",
    "c = 2\n",
    "MAXSIMTIME = 10000\n",
    "POPULATION = 50000000\n",
    "SERVICE_DISCIPLINE = 'FCFS'\n",
    "LOGGED = True\n",
    "VERBOSE = False"
   ]
  },
  {
   "cell_type": "markdown",
   "id": "bfbdd450",
   "metadata": {},
   "source": [
    "### Job"
   ]
  },
  {
   "cell_type": "code",
   "execution_count": 3,
   "id": "c0cec8ba",
   "metadata": {},
   "outputs": [],
   "source": [
    "class Job:\n",
    "    def __init__(self, name, arrtime, duration):\n",
    "        self.name = name\n",
    "        self.arrtime = arrtime\n",
    "        self.duration = duration\n",
    "        \n",
    "    def __str__(self):\n",
    "        return '%s at %d, length %d' % (self.name, self.arrtime, self.duration)"
   ]
  },
  {
   "cell_type": "markdown",
   "id": "45fc310c",
   "metadata": {},
   "source": [
    "### Server"
   ]
  },
  {
   "cell_type": "markdown",
   "id": "fa8ba728",
   "metadata": {},
   "source": [
    "class Server:\n",
    "    def __init__(self, env, strat, job, servernum):\n",
    "        self.env = env\n",
    "        self.strat = strat\n",
    "        self.servernum = servernum\n",
    "        self.job = job\n",
    "        self.serversleeping = None\n",
    "        ''' statistics '''\n",
    "        self.waitingTime = 0\n",
    "        self.idleTime = 0\n",
    "        self.jobsDone = 0\n",
    "        ''' register a new server process '''\n",
    "        env.process( self.serve() )\n",
    "        \n",
    "    def serve(self):\n",
    "        ''' do nothing, just change server to idle\n",
    "            and then yield a wait event which takes infinite time\n",
    "        '''\n",
    "        while True:\n",
    "            if self.job == None:\n",
    "                self.serversleeping = env.process( self.waiting( self.env ))\n",
    "                t1 = self.env.now\n",
    "                yield self.serversleeping\n",
    "                ''' accumulate the server idle time'''\n",
    "                self.idleTime += self.env.now - t1\n",
    "\n",
    "            else:\n",
    "                if LOGGED:\n",
    "                    qlog[i].write('%.4f\\t%d\\n' % (self.env.now, 1 if self.job != None else 0))\n",
    "\n",
    "                ''' sum up the waiting time'''\n",
    "                self.waitingTime += self.env.now - j.arrtime\n",
    "                ''' yield an event for the job finish'''\n",
    "                yield self.env.timeout( j.duration )\n",
    "                ''' sum up the jobs done '''\n",
    "                self.jobsDone += 1\n",
    "                self.job = None\n",
    "                \n",
    "    def waiting(self, env):\n",
    "        try:\n",
    "            if VERBOSE:\n",
    "                print( 'Server is idle at %.2f' % self.env.now )\n",
    "            yield self.env.timeout( MAXSIMTIME )\n",
    "        except simpy.Interrupt as i:\n",
    "            if VERBOSE:\n",
    "                 print('Server waken up and works at %.2f' % self.env.now )"
   ]
  },
  {
   "cell_type": "markdown",
   "id": "55db7933",
   "metadata": {},
   "source": [
    "### System"
   ]
  },
  {
   "cell_type": "code",
   "execution_count": 4,
   "id": "3092a863",
   "metadata": {},
   "outputs": [],
   "source": [
    "class System:\n",
    "    def __init__(self, env, servernum, strat):\n",
    "        self.env = env\n",
    "        self.strat = strat\n",
    "        self.servernum = servernum\n",
    "        self.systemsleeping = None\n",
    "        self.Jobs = list(())\n",
    "        env.process( self.start() )\n",
    "        self.Servers = [None] * servernum\n",
    "        for i in range(0, servernum):\n",
    "            self.Servers[i] = self.Server(env, self.strat, None, i)\n",
    "            \n",
    "    def start(self):\n",
    "        while True:\n",
    "            if len(self.Jobs) == 0:\n",
    "                self.systemsleeping = env.process(self.waiting(self.env))\n",
    "                yield self.systemsleeping\n",
    "            else:\n",
    "                for i in range(0, self.servernum):\n",
    "                    if len(self.Jobs) == 0: continue\n",
    "                    if self.Servers[i].job == None:\n",
    "                        self.Servers[i].job = self.Jobs.pop(0)\n",
    "                        slog.write('%.4f\\t%d\\t%d\\n' % (self.env.now, i, len(self.Jobs)))\n",
    "                \n",
    "                \n",
    "    def waiting(self, env):\n",
    "        try:\n",
    "            if VERBOSE:\n",
    "                print( 'System is idle at %.2f' % self.env.now )\n",
    "            yield self.env.timeout( MAXSIMTIME )\n",
    "        except simpy.Interrupt as i:\n",
    "            if VERBOSE:\n",
    "                 print('Server waken up and works at %.2f' % self.env.now )\n",
    "        \n",
    "    class Server:\n",
    "        def __init__(self, env, strat, job, servernum):\n",
    "            self.env = env\n",
    "            self.strat = strat\n",
    "            self.servernum = servernum\n",
    "            self.job = job\n",
    "            self.serversleeping = None\n",
    "            ''' statistics '''\n",
    "            self.waitingTime = 0\n",
    "            self.idleTime = 0\n",
    "            self.jobsDone = 0\n",
    "            ''' register a new server process '''\n",
    "            env.process( self.serve() )\n",
    "\n",
    "        def serve(self):\n",
    "            ''' do nothing, just change server to idle\n",
    "                and then yield a wait event which takes infinite time\n",
    "            '''\n",
    "            while True:\n",
    "                if self.job == None:\n",
    "                    self.serversleeping = env.process( self.waiting( self.env ))\n",
    "                    t1 = self.env.now\n",
    "                    yield self.serversleeping\n",
    "                    ''' accumulate the server idle time'''\n",
    "                    self.idleTime += self.env.now - t1\n",
    "\n",
    "                else:\n",
    "                    if LOGGED:\n",
    "                        qlog[self.servernum].write('%.4f\\t%d\\n' % (self.env.now, 1 if self.job != None else 0))\n",
    "\n",
    "                    ''' sum up the waiting time'''\n",
    "                    self.waitingTime += self.env.now - self.job.arrtime\n",
    "                    ''' yield an event for the job finish'''\n",
    "                    yield self.env.timeout( self.job.duration )\n",
    "                    ''' sum up the jobs done '''\n",
    "                    self.jobsDone += 1\n",
    "                    self.job = None\n",
    "\n",
    "        def waiting(self, env):\n",
    "            try:\n",
    "                if VERBOSE:\n",
    "                    print( 'Server is idle at %.2f' % self.env.now )\n",
    "                yield self.env.timeout( MAXSIMTIME )\n",
    "            except simpy.Interrupt as i:\n",
    "                if VERBOSE:\n",
    "                     print('Server waken up and works at %.2f' % self.env.now )\n",
    "        \n",
    "    \n",
    "    "
   ]
  },
  {
   "cell_type": "markdown",
   "id": "331637fa",
   "metadata": {},
   "source": [
    "### Job generator"
   ]
  },
  {
   "cell_type": "code",
   "execution_count": 5,
   "id": "a6f07303",
   "metadata": {},
   "outputs": [],
   "source": [
    "class JobGenerator:\n",
    "    def __init__(self, env, system, nrjobs, lam, mu):\n",
    "        self.system = system\n",
    "        self.nrjobs = nrjobs\n",
    "        self.interarrivaltime = 1/lam;\n",
    "        self.servicetime = 1/mu;\n",
    "        env.process( self.generatejobs(env) )\n",
    "        \n",
    "    def generatejobs(self, env):\n",
    "        i = 1\n",
    "        while True:\n",
    "            '''yield an event for new job arrival'''\n",
    "            job_interarrival = random.exponential( self.interarrivaltime )\n",
    "            yield env.timeout( job_interarrival )\n",
    "\n",
    "            ''' generate service time and add job to the list'''\n",
    "            job_duration = random.exponential( self.servicetime )\n",
    "            self.system.Jobs.append( Job('Job %s' %i, env.now, job_duration) )\n",
    "            if VERBOSE:\n",
    "                print( 'job %d: t = %.2f, l = %.2f, dt = %.2f' \n",
    "                    %( i, env.now, job_duration, job_interarrival ) )\n",
    "            i += 1\n",
    "\n",
    "            ''' if server is idle, wake it up'''\n",
    "            if not self.system.systemsleeping.triggered:\n",
    "                self.system.systemsleeping.interrupt( 'Wake up, please.' )\n",
    "                for i in range(0, c):\n",
    "                    if not self.system.Servers[i].serversleeping.triggered:\n",
    "                        self.system.Servers[i].serversleeping.interrupt('Wake up, please')"
   ]
  },
  {
   "cell_type": "markdown",
   "id": "4b11b45d",
   "metadata": {},
   "source": [
    "### Log file"
   ]
  },
  {
   "cell_type": "code",
   "execution_count": 6,
   "id": "d6a00724",
   "metadata": {},
   "outputs": [],
   "source": [
    "qlog = [None] * c\n",
    "if LOGGED:\n",
    "    slog = open( 'mmc-l%d-m%d-c%d.csv' % (LAMBDA,MU,c), 'w')\n",
    "    slog.write('0\\t0\\n')\n",
    "    for i in range(0, c):\n",
    "        qlog[i] = open( 'mmc-l%d-m%d-%d-%d-example.csv' % (LAMBDA,MU,i+1,c), 'w' )\n",
    "        qlog[i].write( '0\\t0\\n' )"
   ]
  },
  {
   "cell_type": "markdown",
   "id": "21148e90",
   "metadata": {},
   "source": [
    "### Start Simpy"
   ]
  },
  {
   "cell_type": "code",
   "execution_count": 7,
   "id": "ef9a47fa",
   "metadata": {},
   "outputs": [],
   "source": [
    "env = simpy.Environment()\n",
    "MySystem = System(env, c, SERVICE_DISCIPLINE)\n",
    "MyJobGenerator = JobGenerator(env, MySystem, POPULATION, LAMBDA, MU)"
   ]
  },
  {
   "cell_type": "markdown",
   "id": "03247f2f",
   "metadata": {},
   "source": [
    "### Run the simulation"
   ]
  },
  {
   "cell_type": "code",
   "execution_count": 8,
   "id": "149cd1ce",
   "metadata": {},
   "outputs": [
    {
     "name": "stdout",
     "output_type": "stream",
     "text": [
      "Unexpected exception formatting exception. Falling back to standard exception\n"
     ]
    },
    {
     "name": "stderr",
     "output_type": "stream",
     "text": [
      "Traceback (most recent call last):\n",
      "  File \"C:\\Users\\BIN\\AppData\\Local\\Temp\\ipykernel_12032\\1770112328.py\", line -1, in start\n",
      "KeyboardInterrupt\n",
      "\n",
      "The above exception was the direct cause of the following exception:\n",
      "\n",
      "Traceback (most recent call last):\n",
      "  File \"C:\\Users\\BIN\\AppData\\Local\\Programs\\Python\\Python310\\lib\\site-packages\\IPython\\core\\interactiveshell.py\", line 3433, in run_code\n",
      "    exec(code_obj, self.user_global_ns, self.user_ns)\n",
      "  File \"C:\\Users\\BIN\\AppData\\Local\\Temp\\ipykernel_12032\\1650718486.py\", line 1, in <module>\n",
      "    env.run( until = MAXSIMTIME )\n",
      "  File \"C:\\Users\\BIN\\AppData\\Local\\Programs\\Python\\Python310\\lib\\site-packages\\simpy\\core.py\", line 254, in run\n",
      "    self.step()\n",
      "  File \"C:\\Users\\BIN\\AppData\\Local\\Programs\\Python\\Python310\\lib\\site-packages\\simpy\\core.py\", line 206, in step\n",
      "    raise exc\n",
      "KeyboardInterrupt\n",
      "\n",
      "During handling of the above exception, another exception occurred:\n",
      "\n",
      "Traceback (most recent call last):\n",
      "  File \"C:\\Users\\BIN\\AppData\\Local\\Programs\\Python\\Python310\\lib\\site-packages\\IPython\\core\\interactiveshell.py\", line 2052, in showtraceback\n",
      "    stb = self.InteractiveTB.structured_traceback(\n",
      "  File \"C:\\Users\\BIN\\AppData\\Local\\Programs\\Python\\Python310\\lib\\site-packages\\IPython\\core\\ultratb.py\", line 1112, in structured_traceback\n",
      "    return FormattedTB.structured_traceback(\n",
      "  File \"C:\\Users\\BIN\\AppData\\Local\\Programs\\Python\\Python310\\lib\\site-packages\\IPython\\core\\ultratb.py\", line 1006, in structured_traceback\n",
      "    return VerboseTB.structured_traceback(\n",
      "  File \"C:\\Users\\BIN\\AppData\\Local\\Programs\\Python\\Python310\\lib\\site-packages\\IPython\\core\\ultratb.py\", line 878, in structured_traceback\n",
      "    formatted_exceptions += self.format_exception_as_a_whole(etype, evalue, etb, lines_of_context,\n",
      "  File \"C:\\Users\\BIN\\AppData\\Local\\Programs\\Python\\Python310\\lib\\site-packages\\IPython\\core\\ultratb.py\", line 812, in format_exception_as_a_whole\n",
      "    frames.append(self.format_record(r))\n",
      "  File \"C:\\Users\\BIN\\AppData\\Local\\Programs\\Python\\Python310\\lib\\site-packages\\IPython\\core\\ultratb.py\", line 730, in format_record\n",
      "    result += ''.join(_format_traceback_lines(frame_info.lines, Colors, self.has_colors, lvals))\n",
      "  File \"C:\\Users\\BIN\\AppData\\Local\\Programs\\Python\\Python310\\lib\\site-packages\\stack_data\\utils.py\", line 144, in cached_property_wrapper\n",
      "    value = obj.__dict__[self.func.__name__] = self.func(obj)\n",
      "  File \"C:\\Users\\BIN\\AppData\\Local\\Programs\\Python\\Python310\\lib\\site-packages\\stack_data\\core.py\", line 720, in lines\n",
      "    pieces = self.included_pieces\n",
      "  File \"C:\\Users\\BIN\\AppData\\Local\\Programs\\Python\\Python310\\lib\\site-packages\\stack_data\\utils.py\", line 144, in cached_property_wrapper\n",
      "    value = obj.__dict__[self.func.__name__] = self.func(obj)\n",
      "  File \"C:\\Users\\BIN\\AppData\\Local\\Programs\\Python\\Python310\\lib\\site-packages\\stack_data\\core.py\", line 667, in included_pieces\n",
      "    pos = scope_pieces.index(self.executing_piece)\n",
      "  File \"C:\\Users\\BIN\\AppData\\Local\\Programs\\Python\\Python310\\lib\\site-packages\\stack_data\\utils.py\", line 144, in cached_property_wrapper\n",
      "    value = obj.__dict__[self.func.__name__] = self.func(obj)\n",
      "  File \"C:\\Users\\BIN\\AppData\\Local\\Programs\\Python\\Python310\\lib\\site-packages\\stack_data\\core.py\", line 646, in executing_piece\n",
      "    return only(\n",
      "  File \"C:\\Users\\BIN\\AppData\\Local\\Programs\\Python\\Python310\\lib\\site-packages\\executing\\executing.py\", line 190, in only\n",
      "    raise NotOneValueFound('Expected one value, found 0')\n",
      "executing.executing.NotOneValueFound: Expected one value, found 0\n"
     ]
    }
   ],
   "source": [
    "env.run( until = MAXSIMTIME )"
   ]
  },
  {
   "cell_type": "markdown",
   "id": "47f5b634",
   "metadata": {},
   "source": [
    "### Close the log file"
   ]
  },
  {
   "cell_type": "code",
   "execution_count": 9,
   "id": "cb795ea7",
   "metadata": {},
   "outputs": [],
   "source": [
    "if LOGGED:\n",
    "    slog.close()\n",
    "    for i in range(0, c):\n",
    "        qlog[i].close()"
   ]
  },
  {
   "cell_type": "code",
   "execution_count": null,
   "id": "92376c60",
   "metadata": {},
   "outputs": [],
   "source": []
  }
 ],
 "metadata": {
  "kernelspec": {
   "display_name": "Python 3 (ipykernel)",
   "language": "python",
   "name": "python3"
  },
  "language_info": {
   "codemirror_mode": {
    "name": "ipython",
    "version": 3
   },
   "file_extension": ".py",
   "mimetype": "text/x-python",
   "name": "python",
   "nbconvert_exporter": "python",
   "pygments_lexer": "ipython3",
   "version": "3.10.7"
  }
 },
 "nbformat": 4,
 "nbformat_minor": 5
}
