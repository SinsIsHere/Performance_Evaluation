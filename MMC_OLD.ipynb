{
 "cells": [
  {
   "cell_type": "markdown",
   "id": "74c32e32",
   "metadata": {},
   "source": [
    "# Install and import libraries"
   ]
  },
  {
   "cell_type": "code",
   "execution_count": null,
   "id": "60014d2b",
   "metadata": {},
   "outputs": [],
   "source": [
    "#!pip install numpy\n",
    "#!pip install simpy\n",
    "#!pip install matplotlib"
   ]
  },
  {
   "cell_type": "code",
   "execution_count": null,
   "id": "0bfc78ce",
   "metadata": {},
   "outputs": [],
   "source": [
    "import simpy\n",
    "import numpy as np\n",
    "import numpy.random as random"
   ]
  },
  {
   "cell_type": "markdown",
   "id": "357ba662",
   "metadata": {},
   "source": [
    "# Parameters setting"
   ]
  },
  {
   "cell_type": "code",
   "execution_count": 1,
   "id": "19f2a468",
   "metadata": {},
   "outputs": [],
   "source": [
    "MAXSIMTIME = 50000\n",
    "VERBOSE = False\n",
    "LAMBDA = 3.8\n",
    "MU = 8.0\n",
    "POPULATION = 50000000\n",
    "SERVICE_DISCIPLINE = 'FCFS'\n",
    "LOGGED = True\n",
    "PLOTTED = True"
   ]
  },
  {
   "cell_type": "markdown",
   "id": "47ffa4f9",
   "metadata": {},
   "source": [
    "# Discrete-Events Simulation model\n",
    "\n",
    "## The definition of a job\n",
    "\n",
    "Properties of a jobs are:\n",
    "* Job execution time\n",
    "* Job arrival time"
   ]
  },
  {
   "cell_type": "code",
   "execution_count": 2,
   "id": "13feb013",
   "metadata": {},
   "outputs": [],
   "source": [
    "class Job:\n",
    "    def __init__(self, name, arrtime, duration):\n",
    "        self.name = name\n",
    "        self.arrtime = arrtime\n",
    "        self.duration = duration\n",
    "        \n",
    "    def __str__(self):\n",
    "        return '%s at %d, length %d' %(self.name, self.arrtime, self.duration)"
   ]
  },
  {
   "cell_type": "markdown",
   "id": "a8b97b2d",
   "metadata": {},
   "source": [
    "## Discipline\n",
    "For this simulation, we will use the FCFS discipline for our model."
   ]
  },
  {
   "cell_type": "code",
   "execution_count": 3,
   "id": "35bd51aa",
   "metadata": {},
   "outputs": [],
   "source": [
    "def FCFS(job):\n",
    "    return job.duration"
   ]
  },
  {
   "cell_type": "markdown",
   "id": "455fea0f",
   "metadata": {},
   "source": [
    "## The definition of a server\n",
    "There are 2 arguments needed for a server\n",
    "1. env: SimPy environment\n",
    "1. Queue discipline: First come, first served"
   ]
  },
  {
   "cell_type": "code",
   "execution_count": null,
   "id": "ae5d9ba6",
   "metadata": {},
   "outputs": [],
   "source": [
    "class SubServer:\n",
    "    def __init__(self, env, strat = 'FCFS'):\n",
    "        self.env = env\n",
    "        self.strat = strat\n",
    "        self.Jobs = list(())\n",
    "        self.serversleeping = None\n",
    "        '''statistics'''\n",
    "        self.waitingTime = 0\n",
    "        self.idleTime = 0\n",
    "        self.jobsDone = 0\n",
    "        '''register a new server process'''\n",
    "        env.process(self.serve())\n",
    "        \n",
    "    def serve(self):\n",
    "        while True:\n",
    "            '''do nothing, just change server to idle\n",
    "               and then yield a wait event which takes infinite time'''\n",
    "            if len(self.Jobs == 0):\n",
    "                self.serversleeping = env.process(self.waiting(self.env))\n",
    "                t1 = self.env.now\n",
    "                yield self.serversleeping\n",
    "                '''accumulate the server idle time'''\n",
    "                seld.idleTime += self.env.now - t1\n",
    "            else:\n",
    "                '''get the first job to be served'''\n",
    "                if self.strat == 'SJF':\n",
    "                    self.Jobs.sort( key = SJF )\n",
    "                    j = self.Jobs.pop( 0 )\n",
    "                else: # FIFO by default\n",
    "                    j = self.Jobs.pop( 0 )\n",
    "                if LOGGED:\n",
    "                    qlog.write( '%.4f\\t%d\\t%d\\n' \n",
    "                        % (self.env.now, 1 if len(self.Jobs)>0 else 0, len(self.Jobs)) )\n",
    "\n",
    "                ''' sum up the waiting time'''\n",
    "                self.waitingTime += self.env.now - j.arrtime\n",
    "                ''' yield an event for the job finish'''\n",
    "                yield self.env.timeout( j.duration )\n",
    "                ''' sum up the jobs done '''\n",
    "                self.jobsDone += 1\n",
    "\n",
    "    def waiting(self, env):\n",
    "        try:\n",
    "            if VERBOSE:\n",
    "                print( 'Server is idle at %.2f' % self.env.now )\n",
    "            yield self.env.timeout( MAXSIMTIME )\n",
    "        except simpy.Interrupt as i:\n",
    "            if VERBOSE:\n",
    "                 print('Server waken up and works at %.2f' % self.env.now )"
   ]
  }
 ],
 "metadata": {
  "kernelspec": {
   "display_name": "Python 3 (ipykernel)",
   "language": "python",
   "name": "python3"
  },
  "language_info": {
   "codemirror_mode": {
    "name": "ipython",
    "version": 3
   },
   "file_extension": ".py",
   "mimetype": "text/x-python",
   "name": "python",
   "nbconvert_exporter": "python",
   "pygments_lexer": "ipython3",
   "version": "3.10.7"
  }
 },
 "nbformat": 4,
 "nbformat_minor": 5
}
